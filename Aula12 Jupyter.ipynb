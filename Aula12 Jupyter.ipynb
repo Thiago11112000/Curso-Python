{
 "cells": [
  {
   "cell_type": "markdown",
   "metadata": {},
   "source": [
    "### Cálculo de IMC"
   ]
  },
  {
   "cell_type": "code",
   "execution_count": 17,
   "metadata": {},
   "outputs": [
    {
     "name": "stdout",
     "output_type": "stream",
     "text": [
      "Luiz Otávio tem 1.8 de altura\n",
      "pesa 95 quilos e seu imc é\n",
      "29.320987654320987\n"
     ]
    }
   ],
   "source": [
    "nome = 'Luiz Otávio'\n",
    "altura = 1.80\n",
    "peso = 95\n",
    "imc = peso / (altura  ** 2)\n",
    "print(nome, 'tem', altura, 'de altura', )\n",
    "print('pesa', peso, 'quilos e seu imc é' )\n",
    "print(imc)\n",
    "\n"
   ]
  }
 ],
 "metadata": {
  "kernelspec": {
   "display_name": "Python 3",
   "language": "python",
   "name": "python3"
  },
  "language_info": {
   "codemirror_mode": {
    "name": "ipython",
    "version": 3
   },
   "file_extension": ".py",
   "mimetype": "text/x-python",
   "name": "python",
   "nbconvert_exporter": "python",
   "pygments_lexer": "ipython3",
   "version": "3.12.3"
  }
 },
 "nbformat": 4,
 "nbformat_minor": 2
}
